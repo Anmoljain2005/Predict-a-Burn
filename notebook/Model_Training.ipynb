{
 "cells": [
  {
   "cell_type": "markdown",
   "metadata": {},
   "source": [
    "## Model Training"
   ]
  },
  {
   "cell_type": "markdown",
   "metadata": {},
   "source": [
    "#### 1. Import Data and Required Packages\n",
    "##### 1.1 Importing Pandas, Numpy, Matplotlib, Seaborn and Warings Library."
   ]
  },
  {
   "cell_type": "code",
   "execution_count": 57,
   "metadata": {},
   "outputs": [],
   "source": [
    "# Basic Import\n",
    "import numpy as np\n",
    "import pandas as pd\n",
    "import matplotlib.pyplot as plt \n",
    "import seaborn as sns\n",
    "# Modelling\n",
    "from sklearn.neighbors import KNeighborsRegressor\n",
    "from sklearn.tree import DecisionTreeRegressor\n",
    "from sklearn.ensemble import RandomForestRegressor,AdaBoostRegressor\n",
    "from sklearn.svm import SVR\n",
    "from sklearn.linear_model import LinearRegression, Ridge,Lasso\n",
    "from sklearn.metrics import r2_score, mean_absolute_error, mean_squared_error\n",
    "from sklearn.model_selection import RandomizedSearchCV\n",
    "from catboost import CatBoostRegressor\n",
    "from xgboost import XGBRegressor"
   ]
  },
  {
   "cell_type": "markdown",
   "metadata": {},
   "source": [
    "#### 1.2 Import the CSV Data as Pandas DataFrame"
   ]
  },
  {
   "cell_type": "code",
   "execution_count": 58,
   "metadata": {},
   "outputs": [
    {
     "data": {
      "text/html": [
       "<div>\n",
       "<style scoped>\n",
       "    .dataframe tbody tr th:only-of-type {\n",
       "        vertical-align: middle;\n",
       "    }\n",
       "\n",
       "    .dataframe tbody tr th {\n",
       "        vertical-align: top;\n",
       "    }\n",
       "\n",
       "    .dataframe thead th {\n",
       "        text-align: right;\n",
       "    }\n",
       "</style>\n",
       "<table border=\"1\" class=\"dataframe\">\n",
       "  <thead>\n",
       "    <tr style=\"text-align: right;\">\n",
       "      <th></th>\n",
       "      <th>User_ID</th>\n",
       "      <th>Gender</th>\n",
       "      <th>Age</th>\n",
       "      <th>Height</th>\n",
       "      <th>Weight</th>\n",
       "      <th>Duration</th>\n",
       "      <th>Heart_Rate</th>\n",
       "      <th>Body_Temp</th>\n",
       "      <th>Calories</th>\n",
       "    </tr>\n",
       "  </thead>\n",
       "  <tbody>\n",
       "    <tr>\n",
       "      <th>0</th>\n",
       "      <td>14733363</td>\n",
       "      <td>male</td>\n",
       "      <td>68</td>\n",
       "      <td>190.0</td>\n",
       "      <td>94.0</td>\n",
       "      <td>29.0</td>\n",
       "      <td>105.0</td>\n",
       "      <td>40.8</td>\n",
       "      <td>231.0</td>\n",
       "    </tr>\n",
       "    <tr>\n",
       "      <th>1</th>\n",
       "      <td>14861698</td>\n",
       "      <td>female</td>\n",
       "      <td>20</td>\n",
       "      <td>166.0</td>\n",
       "      <td>60.0</td>\n",
       "      <td>14.0</td>\n",
       "      <td>94.0</td>\n",
       "      <td>40.3</td>\n",
       "      <td>66.0</td>\n",
       "    </tr>\n",
       "    <tr>\n",
       "      <th>2</th>\n",
       "      <td>11179863</td>\n",
       "      <td>male</td>\n",
       "      <td>69</td>\n",
       "      <td>179.0</td>\n",
       "      <td>79.0</td>\n",
       "      <td>5.0</td>\n",
       "      <td>88.0</td>\n",
       "      <td>38.7</td>\n",
       "      <td>26.0</td>\n",
       "    </tr>\n",
       "    <tr>\n",
       "      <th>3</th>\n",
       "      <td>16180408</td>\n",
       "      <td>female</td>\n",
       "      <td>34</td>\n",
       "      <td>179.0</td>\n",
       "      <td>71.0</td>\n",
       "      <td>13.0</td>\n",
       "      <td>100.0</td>\n",
       "      <td>40.5</td>\n",
       "      <td>71.0</td>\n",
       "    </tr>\n",
       "    <tr>\n",
       "      <th>4</th>\n",
       "      <td>17771927</td>\n",
       "      <td>female</td>\n",
       "      <td>27</td>\n",
       "      <td>154.0</td>\n",
       "      <td>58.0</td>\n",
       "      <td>10.0</td>\n",
       "      <td>81.0</td>\n",
       "      <td>39.8</td>\n",
       "      <td>35.0</td>\n",
       "    </tr>\n",
       "  </tbody>\n",
       "</table>\n",
       "</div>"
      ],
      "text/plain": [
       "    User_ID  Gender  Age  Height  Weight  Duration  Heart_Rate  Body_Temp  \\\n",
       "0  14733363    male   68   190.0    94.0      29.0       105.0       40.8   \n",
       "1  14861698  female   20   166.0    60.0      14.0        94.0       40.3   \n",
       "2  11179863    male   69   179.0    79.0       5.0        88.0       38.7   \n",
       "3  16180408  female   34   179.0    71.0      13.0       100.0       40.5   \n",
       "4  17771927  female   27   154.0    58.0      10.0        81.0       39.8   \n",
       "\n",
       "   Calories  \n",
       "0     231.0  \n",
       "1      66.0  \n",
       "2      26.0  \n",
       "3      71.0  \n",
       "4      35.0  "
      ]
     },
     "execution_count": 58,
     "metadata": {},
     "output_type": "execute_result"
    }
   ],
   "source": [
    "df = pd.read_csv(\"./data/calories.csv\")\n",
    "df.head()"
   ]
  },
  {
   "cell_type": "markdown",
   "metadata": {},
   "source": [
    "#### 1.3 Drop id column as it is statistically insignificant"
   ]
  },
  {
   "cell_type": "code",
   "execution_count": 59,
   "metadata": {},
   "outputs": [],
   "source": [
    "df = df.drop(labels=['User_ID'],axis=1)"
   ]
  },
  {
   "cell_type": "markdown",
   "metadata": {},
   "source": [
    "#### 1.4 Preparing X and Y variables"
   ]
  },
  {
   "cell_type": "code",
   "execution_count": 60,
   "metadata": {},
   "outputs": [],
   "source": [
    "X = df.drop(labels=['Calories'],axis=1)\n",
    "Y = df[['Calories']]"
   ]
  },
  {
   "cell_type": "code",
   "execution_count": 61,
   "metadata": {},
   "outputs": [
    {
     "data": {
      "text/html": [
       "<div>\n",
       "<style scoped>\n",
       "    .dataframe tbody tr th:only-of-type {\n",
       "        vertical-align: middle;\n",
       "    }\n",
       "\n",
       "    .dataframe tbody tr th {\n",
       "        vertical-align: top;\n",
       "    }\n",
       "\n",
       "    .dataframe thead th {\n",
       "        text-align: right;\n",
       "    }\n",
       "</style>\n",
       "<table border=\"1\" class=\"dataframe\">\n",
       "  <thead>\n",
       "    <tr style=\"text-align: right;\">\n",
       "      <th></th>\n",
       "      <th>Calories</th>\n",
       "    </tr>\n",
       "  </thead>\n",
       "  <tbody>\n",
       "    <tr>\n",
       "      <th>0</th>\n",
       "      <td>231.0</td>\n",
       "    </tr>\n",
       "    <tr>\n",
       "      <th>1</th>\n",
       "      <td>66.0</td>\n",
       "    </tr>\n",
       "    <tr>\n",
       "      <th>2</th>\n",
       "      <td>26.0</td>\n",
       "    </tr>\n",
       "    <tr>\n",
       "      <th>3</th>\n",
       "      <td>71.0</td>\n",
       "    </tr>\n",
       "    <tr>\n",
       "      <th>4</th>\n",
       "      <td>35.0</td>\n",
       "    </tr>\n",
       "    <tr>\n",
       "      <th>...</th>\n",
       "      <td>...</td>\n",
       "    </tr>\n",
       "    <tr>\n",
       "      <th>14995</th>\n",
       "      <td>45.0</td>\n",
       "    </tr>\n",
       "    <tr>\n",
       "      <th>14996</th>\n",
       "      <td>23.0</td>\n",
       "    </tr>\n",
       "    <tr>\n",
       "      <th>14997</th>\n",
       "      <td>75.0</td>\n",
       "    </tr>\n",
       "    <tr>\n",
       "      <th>14998</th>\n",
       "      <td>11.0</td>\n",
       "    </tr>\n",
       "    <tr>\n",
       "      <th>14999</th>\n",
       "      <td>98.0</td>\n",
       "    </tr>\n",
       "  </tbody>\n",
       "</table>\n",
       "<p>15000 rows × 1 columns</p>\n",
       "</div>"
      ],
      "text/plain": [
       "       Calories\n",
       "0         231.0\n",
       "1          66.0\n",
       "2          26.0\n",
       "3          71.0\n",
       "4          35.0\n",
       "...         ...\n",
       "14995      45.0\n",
       "14996      23.0\n",
       "14997      75.0\n",
       "14998      11.0\n",
       "14999      98.0\n",
       "\n",
       "[15000 rows x 1 columns]"
      ]
     },
     "execution_count": 61,
     "metadata": {},
     "output_type": "execute_result"
    }
   ],
   "source": [
    "Y"
   ]
  },
  {
   "attachments": {},
   "cell_type": "markdown",
   "metadata": {},
   "source": [
    "### 2. Creating Data Transformation Pipeline"
   ]
  },
  {
   "attachments": {},
   "cell_type": "markdown",
   "metadata": {},
   "source": [
    "#### 2.1 Creating Pipeline with Column Transformer"
   ]
  },
  {
   "cell_type": "code",
   "execution_count": 62,
   "metadata": {},
   "outputs": [],
   "source": [
    "# Define which columns should be ordinal-encoded and which should be scaled\n",
    "categorical_cols = X.select_dtypes(include='object').columns\n",
    "numerical_cols = X.select_dtypes(exclude='object').columns\n",
    "            \n",
    "# Define the custom ranking for each ordinal variable\n",
    "Gender_categories = ['male', 'female']\n",
    "\n",
    "from sklearn.compose import ColumnTransformer\n",
    "from sklearn.impute import SimpleImputer\n",
    "from sklearn.pipeline import Pipeline\n",
    "from sklearn.preprocessing import OrdinalEncoder,StandardScaler\n",
    "\n",
    "# Numerical Pipeline\n",
    "num_pipeline = Pipeline(\n",
    "                steps = [\n",
    "                ('imputer',SimpleImputer(strategy='median')),\n",
    "                ('scaler',StandardScaler())                \n",
    "                ]\n",
    "            )\n",
    "\n",
    "# Categorical Pipeline\n",
    "cat_pipeline = Pipeline(\n",
    "                steps=[\n",
    "                ('imputer',SimpleImputer(strategy='most_frequent')),\n",
    "                ('ordinal_encoder',OrdinalEncoder(categories=[Gender_categories])),\n",
    "                ('scaler',StandardScaler())\n",
    "                ]\n",
    "            )\n",
    "\n",
    "preprocessor = ColumnTransformer(\n",
    "                [\n",
    "                ('num_pipeline',num_pipeline,numerical_cols),\n",
    "                ('cat_pipeline',cat_pipeline,categorical_cols)\n",
    "                ]\n",
    "            )"
   ]
  },
  {
   "attachments": {},
   "cell_type": "markdown",
   "metadata": {},
   "source": [
    "### 2.2 Train Test Split"
   ]
  },
  {
   "cell_type": "code",
   "execution_count": 63,
   "metadata": {},
   "outputs": [],
   "source": [
    "from sklearn.model_selection import train_test_split\n",
    "xtrain, xtest, ytrain, ytest = train_test_split(X,Y,test_size=0.2,random_state=42)"
   ]
  },
  {
   "cell_type": "code",
   "execution_count": 64,
   "metadata": {},
   "outputs": [
    {
     "name": "stdout",
     "output_type": "stream",
     "text": [
      "X shape: (15000, 7)\n",
      "X_train shape: (12000, 7)\n",
      "X_test shape: (3000, 7)\n"
     ]
    }
   ],
   "source": [
    "print(f\"X shape: {X.shape}\")\n",
    "print(f\"X_train shape: {xtrain.shape}\")\n",
    "print(f\"X_test shape: {xtest.shape}\")"
   ]
  },
  {
   "attachments": {},
   "cell_type": "markdown",
   "metadata": {},
   "source": [
    "### 2.3 Transforming the data with pipeline created"
   ]
  },
  {
   "cell_type": "code",
   "execution_count": 65,
   "metadata": {},
   "outputs": [],
   "source": [
    "xtrain = pd.DataFrame(preprocessor.fit_transform(xtrain),columns=preprocessor.get_feature_names_out())\n",
    "xtest = pd.DataFrame(preprocessor.transform(xtest),columns=preprocessor.get_feature_names_out())"
   ]
  },
  {
   "cell_type": "code",
   "execution_count": 66,
   "metadata": {},
   "outputs": [
    {
     "data": {
      "text/plain": [
       "array(['num_pipeline__Age', 'num_pipeline__Height',\n",
       "       'num_pipeline__Weight', 'num_pipeline__Duration',\n",
       "       'num_pipeline__Heart_Rate', 'num_pipeline__Body_Temp',\n",
       "       'cat_pipeline__Gender'], dtype=object)"
      ]
     },
     "execution_count": 66,
     "metadata": {},
     "output_type": "execute_result"
    }
   ],
   "source": [
    "preprocessor.get_feature_names_out()"
   ]
  },
  {
   "cell_type": "code",
   "execution_count": 67,
   "metadata": {},
   "outputs": [
    {
     "data": {
      "text/html": [
       "<div>\n",
       "<style scoped>\n",
       "    .dataframe tbody tr th:only-of-type {\n",
       "        vertical-align: middle;\n",
       "    }\n",
       "\n",
       "    .dataframe tbody tr th {\n",
       "        vertical-align: top;\n",
       "    }\n",
       "\n",
       "    .dataframe thead th {\n",
       "        text-align: right;\n",
       "    }\n",
       "</style>\n",
       "<table border=\"1\" class=\"dataframe\">\n",
       "  <thead>\n",
       "    <tr style=\"text-align: right;\">\n",
       "      <th></th>\n",
       "      <th>num_pipeline__Age</th>\n",
       "      <th>num_pipeline__Height</th>\n",
       "      <th>num_pipeline__Weight</th>\n",
       "      <th>num_pipeline__Duration</th>\n",
       "      <th>num_pipeline__Heart_Rate</th>\n",
       "      <th>num_pipeline__Body_Temp</th>\n",
       "      <th>cat_pipeline__Gender</th>\n",
       "    </tr>\n",
       "  </thead>\n",
       "  <tbody>\n",
       "    <tr>\n",
       "      <th>0</th>\n",
       "      <td>-0.337295</td>\n",
       "      <td>0.323232</td>\n",
       "      <td>0.139551</td>\n",
       "      <td>-1.021889</td>\n",
       "      <td>-1.517377</td>\n",
       "      <td>-0.671031</td>\n",
       "      <td>-1.007193</td>\n",
       "    </tr>\n",
       "    <tr>\n",
       "      <th>1</th>\n",
       "      <td>-1.163322</td>\n",
       "      <td>1.447924</td>\n",
       "      <td>0.805955</td>\n",
       "      <td>1.266663</td>\n",
       "      <td>1.522425</td>\n",
       "      <td>0.614490</td>\n",
       "      <td>-1.007193</td>\n",
       "    </tr>\n",
       "    <tr>\n",
       "      <th>2</th>\n",
       "      <td>-0.573303</td>\n",
       "      <td>0.463818</td>\n",
       "      <td>0.139551</td>\n",
       "      <td>-0.419638</td>\n",
       "      <td>-0.783631</td>\n",
       "      <td>0.100281</td>\n",
       "      <td>-1.007193</td>\n",
       "    </tr>\n",
       "    <tr>\n",
       "      <th>3</th>\n",
       "      <td>1.373763</td>\n",
       "      <td>-1.293513</td>\n",
       "      <td>-1.393179</td>\n",
       "      <td>-0.780988</td>\n",
       "      <td>-1.936660</td>\n",
       "      <td>-0.671031</td>\n",
       "      <td>0.992859</td>\n",
       "    </tr>\n",
       "    <tr>\n",
       "      <th>4</th>\n",
       "      <td>-0.632304</td>\n",
       "      <td>-2.137032</td>\n",
       "      <td>-1.726381</td>\n",
       "      <td>-1.262789</td>\n",
       "      <td>-0.573990</td>\n",
       "      <td>-1.313791</td>\n",
       "      <td>0.992859</td>\n",
       "    </tr>\n",
       "  </tbody>\n",
       "</table>\n",
       "</div>"
      ],
      "text/plain": [
       "   num_pipeline__Age  num_pipeline__Height  num_pipeline__Weight  \\\n",
       "0          -0.337295              0.323232              0.139551   \n",
       "1          -1.163322              1.447924              0.805955   \n",
       "2          -0.573303              0.463818              0.139551   \n",
       "3           1.373763             -1.293513             -1.393179   \n",
       "4          -0.632304             -2.137032             -1.726381   \n",
       "\n",
       "   num_pipeline__Duration  num_pipeline__Heart_Rate  num_pipeline__Body_Temp  \\\n",
       "0               -1.021889                 -1.517377                -0.671031   \n",
       "1                1.266663                  1.522425                 0.614490   \n",
       "2               -0.419638                 -0.783631                 0.100281   \n",
       "3               -0.780988                 -1.936660                -0.671031   \n",
       "4               -1.262789                 -0.573990                -1.313791   \n",
       "\n",
       "   cat_pipeline__Gender  \n",
       "0             -1.007193  \n",
       "1             -1.007193  \n",
       "2             -1.007193  \n",
       "3              0.992859  \n",
       "4              0.992859  "
      ]
     },
     "execution_count": 67,
     "metadata": {},
     "output_type": "execute_result"
    }
   ],
   "source": [
    "xtrain.head()"
   ]
  },
  {
   "cell_type": "code",
   "execution_count": 68,
   "metadata": {},
   "outputs": [
    {
     "data": {
      "text/html": [
       "<div>\n",
       "<style scoped>\n",
       "    .dataframe tbody tr th:only-of-type {\n",
       "        vertical-align: middle;\n",
       "    }\n",
       "\n",
       "    .dataframe tbody tr th {\n",
       "        vertical-align: top;\n",
       "    }\n",
       "\n",
       "    .dataframe thead th {\n",
       "        text-align: right;\n",
       "    }\n",
       "</style>\n",
       "<table border=\"1\" class=\"dataframe\">\n",
       "  <thead>\n",
       "    <tr style=\"text-align: right;\">\n",
       "      <th></th>\n",
       "      <th>num_pipeline__Age</th>\n",
       "      <th>num_pipeline__Height</th>\n",
       "      <th>num_pipeline__Weight</th>\n",
       "      <th>num_pipeline__Duration</th>\n",
       "      <th>num_pipeline__Heart_Rate</th>\n",
       "      <th>num_pipeline__Body_Temp</th>\n",
       "      <th>cat_pipeline__Gender</th>\n",
       "    </tr>\n",
       "  </thead>\n",
       "  <tbody>\n",
       "    <tr>\n",
       "      <th>0</th>\n",
       "      <td>0.134721</td>\n",
       "      <td>-1.434100</td>\n",
       "      <td>-1.526460</td>\n",
       "      <td>1.266663</td>\n",
       "      <td>1.207963</td>\n",
       "      <td>0.743042</td>\n",
       "      <td>0.992859</td>\n",
       "    </tr>\n",
       "    <tr>\n",
       "      <th>1</th>\n",
       "      <td>-1.281326</td>\n",
       "      <td>0.885578</td>\n",
       "      <td>1.005876</td>\n",
       "      <td>1.628014</td>\n",
       "      <td>1.627246</td>\n",
       "      <td>0.614490</td>\n",
       "      <td>-1.007193</td>\n",
       "    </tr>\n",
       "    <tr>\n",
       "      <th>2</th>\n",
       "      <td>0.901747</td>\n",
       "      <td>0.112352</td>\n",
       "      <td>0.139551</td>\n",
       "      <td>-0.540088</td>\n",
       "      <td>-0.573990</td>\n",
       "      <td>-0.028271</td>\n",
       "      <td>-1.007193</td>\n",
       "    </tr>\n",
       "    <tr>\n",
       "      <th>3</th>\n",
       "      <td>-0.455299</td>\n",
       "      <td>0.534112</td>\n",
       "      <td>0.939236</td>\n",
       "      <td>1.025763</td>\n",
       "      <td>1.312784</td>\n",
       "      <td>1.000146</td>\n",
       "      <td>-1.007193</td>\n",
       "    </tr>\n",
       "    <tr>\n",
       "      <th>4</th>\n",
       "      <td>1.432765</td>\n",
       "      <td>-0.239114</td>\n",
       "      <td>-0.526854</td>\n",
       "      <td>1.628014</td>\n",
       "      <td>2.151350</td>\n",
       "      <td>1.385802</td>\n",
       "      <td>0.992859</td>\n",
       "    </tr>\n",
       "  </tbody>\n",
       "</table>\n",
       "</div>"
      ],
      "text/plain": [
       "   num_pipeline__Age  num_pipeline__Height  num_pipeline__Weight  \\\n",
       "0           0.134721             -1.434100             -1.526460   \n",
       "1          -1.281326              0.885578              1.005876   \n",
       "2           0.901747              0.112352              0.139551   \n",
       "3          -0.455299              0.534112              0.939236   \n",
       "4           1.432765             -0.239114             -0.526854   \n",
       "\n",
       "   num_pipeline__Duration  num_pipeline__Heart_Rate  num_pipeline__Body_Temp  \\\n",
       "0                1.266663                  1.207963                 0.743042   \n",
       "1                1.628014                  1.627246                 0.614490   \n",
       "2               -0.540088                 -0.573990                -0.028271   \n",
       "3                1.025763                  1.312784                 1.000146   \n",
       "4                1.628014                  2.151350                 1.385802   \n",
       "\n",
       "   cat_pipeline__Gender  \n",
       "0              0.992859  \n",
       "1             -1.007193  \n",
       "2             -1.007193  \n",
       "3             -1.007193  \n",
       "4              0.992859  "
      ]
     },
     "execution_count": 68,
     "metadata": {},
     "output_type": "execute_result"
    }
   ],
   "source": [
    "xtest.head()"
   ]
  },
  {
   "attachments": {},
   "cell_type": "markdown",
   "metadata": {},
   "source": [
    "### 3. Model Training Baseline models"
   ]
  },
  {
   "attachments": {},
   "cell_type": "markdown",
   "metadata": {},
   "source": [
    "#### 3.1 Create an Evaluate Function to give all metrics after model Training"
   ]
  },
  {
   "cell_type": "code",
   "execution_count": 69,
   "metadata": {},
   "outputs": [],
   "source": [
    "def evaluate_model(true, predicted):\n",
    "    mae = mean_absolute_error(true, predicted)\n",
    "    mse = mean_squared_error(true, predicted)\n",
    "    rmse = np.sqrt(mean_squared_error(true, predicted))\n",
    "    r2_square = r2_score(true, predicted)\n",
    "    return mae, rmse, r2_square"
   ]
  },
  {
   "attachments": {},
   "cell_type": "markdown",
   "metadata": {},
   "source": [
    "#### 3.2 Training Various models"
   ]
  },
  {
   "cell_type": "code",
   "execution_count": 70,
   "metadata": {},
   "outputs": [
    {
     "name": "stdout",
     "output_type": "stream",
     "text": [
      "Linear Regression\n",
      "Model performance for Training set\n",
      "- Root Mean Squared Error: 11.2670\n",
      "- Mean Absolute Error: 8.3068\n",
      "- R2 Score: 0.9672\n",
      "----------------------------------\n",
      "Model performance for Test set\n",
      "- Root Mean Squared Error: 11.4889\n",
      "- Mean Absolute Error: 8.4415\n",
      "- R2 Score: 0.9673\n",
      "===================================\n",
      "\n",
      "\n",
      "Lasso\n",
      "Model performance for Training set\n",
      "- Root Mean Squared Error: 12.2509\n",
      "- Mean Absolute Error: 9.0094\n",
      "- R2 Score: 0.9612\n",
      "----------------------------------\n",
      "Model performance for Test set\n",
      "- Root Mean Squared Error: 12.5619\n",
      "- Mean Absolute Error: 9.1444\n",
      "- R2 Score: 0.9609\n",
      "===================================\n",
      "\n",
      "\n",
      "Ridge\n",
      "Model performance for Training set\n",
      "- Root Mean Squared Error: 11.2670\n",
      "- Mean Absolute Error: 8.3065\n",
      "- R2 Score: 0.9672\n",
      "----------------------------------\n",
      "Model performance for Test set\n",
      "- Root Mean Squared Error: 11.4892\n",
      "- Mean Absolute Error: 8.4412\n",
      "- R2 Score: 0.9673\n",
      "===================================\n",
      "\n",
      "\n",
      "K-Neighbors Regressor\n",
      "Model performance for Training set\n",
      "- Root Mean Squared Error: 4.2902\n",
      "- Mean Absolute Error: 3.1181\n",
      "- R2 Score: 0.9952\n",
      "----------------------------------\n",
      "Model performance for Test set\n",
      "- Root Mean Squared Error: 5.1148\n",
      "- Mean Absolute Error: 3.7141\n",
      "- R2 Score: 0.9935\n",
      "===================================\n",
      "\n",
      "\n",
      "Decision Tree\n",
      "Model performance for Training set\n",
      "- Root Mean Squared Error: 0.0000\n",
      "- Mean Absolute Error: 0.0000\n",
      "- R2 Score: 1.0000\n",
      "----------------------------------\n",
      "Model performance for Test set\n",
      "- Root Mean Squared Error: 5.3534\n",
      "- Mean Absolute Error: 3.4223\n",
      "- R2 Score: 0.9929\n",
      "===================================\n",
      "\n",
      "\n",
      "Random Forest Regressor\n",
      "Model performance for Training set\n",
      "- Root Mean Squared Error: 1.0814\n",
      "- Mean Absolute Error: 0.6647\n",
      "- R2 Score: 0.9997\n",
      "----------------------------------\n",
      "Model performance for Test set\n",
      "- Root Mean Squared Error: 2.6755\n",
      "- Mean Absolute Error: 1.6893\n",
      "- R2 Score: 0.9982\n",
      "===================================\n",
      "\n",
      "\n",
      "XGBRegressor\n",
      "Model performance for Training set\n",
      "- Root Mean Squared Error: 1.2777\n",
      "- Mean Absolute Error: 0.9447\n",
      "- R2 Score: 0.9996\n",
      "----------------------------------\n",
      "Model performance for Test set\n",
      "- Root Mean Squared Error: 2.1373\n",
      "- Mean Absolute Error: 1.4985\n",
      "- R2 Score: 0.9989\n",
      "===================================\n",
      "\n",
      "\n",
      "CatBoosting Regressor\n",
      "Model performance for Training set\n",
      "- Root Mean Squared Error: 0.5151\n",
      "- Mean Absolute Error: 0.4030\n",
      "- R2 Score: 0.9999\n",
      "----------------------------------\n",
      "Model performance for Test set\n",
      "- Root Mean Squared Error: 0.6800\n",
      "- Mean Absolute Error: 0.4857\n",
      "- R2 Score: 0.9999\n",
      "===================================\n",
      "\n",
      "\n",
      "AdaBoost Regressor\n",
      "Model performance for Training set\n",
      "- Root Mean Squared Error: 11.6134\n",
      "- Mean Absolute Error: 9.2910\n",
      "- R2 Score: 0.9651\n",
      "----------------------------------\n",
      "Model performance for Test set\n",
      "- Root Mean Squared Error: 11.6975\n",
      "- Mean Absolute Error: 9.3367\n",
      "- R2 Score: 0.9661\n",
      "===================================\n",
      "\n",
      "\n"
     ]
    }
   ],
   "source": [
    "models = {\n",
    "    \"Linear Regression\": LinearRegression(),\n",
    "    \"Lasso\": Lasso(),\n",
    "    \"Ridge\": Ridge(),\n",
    "    \"K-Neighbors Regressor\": KNeighborsRegressor(),\n",
    "    \"Decision Tree\": DecisionTreeRegressor(),\n",
    "    \"Random Forest Regressor\": RandomForestRegressor(),\n",
    "    \"XGBRegressor\": XGBRegressor(), \n",
    "    \"CatBoosting Regressor\": CatBoostRegressor(verbose=False),\n",
    "    \"AdaBoost Regressor\": AdaBoostRegressor()\n",
    "}\n",
    "model_list = []\n",
    "r2_list =[]\n",
    "\n",
    "for i in range(len(list(models))):\n",
    "    model = list(models.values())[i]\n",
    "    model.fit(xtrain, ytrain.values.flatten()) # Train model\n",
    "\n",
    "    # Make predictions\n",
    "    y_train_pred = model.predict(xtrain)\n",
    "    y_test_pred = model.predict(xtest)\n",
    "    \n",
    "    # Evaluate Train and Test dataset\n",
    "    model_train_mae , model_train_rmse, model_train_r2 = evaluate_model(ytrain, y_train_pred)\n",
    "\n",
    "    model_test_mae , model_test_rmse, model_test_r2 = evaluate_model(ytest, y_test_pred)\n",
    "\n",
    "    \n",
    "    print(list(models.keys())[i])\n",
    "    model_list.append(list(models.keys())[i])\n",
    "    \n",
    "    print('Model performance for Training set')\n",
    "    print(\"- Root Mean Squared Error: {:.4f}\".format(model_train_rmse))\n",
    "    print(\"- Mean Absolute Error: {:.4f}\".format(model_train_mae))\n",
    "    print(\"- R2 Score: {:.4f}\".format(model_train_r2))\n",
    "\n",
    "    print('----------------------------------')\n",
    "    \n",
    "    print('Model performance for Test set')\n",
    "    print(\"- Root Mean Squared Error: {:.4f}\".format(model_test_rmse))\n",
    "    print(\"- Mean Absolute Error: {:.4f}\".format(model_test_mae))\n",
    "    print(\"- R2 Score: {:.4f}\".format(model_test_r2))\n",
    "    r2_list.append(model_test_r2)\n",
    "    \n",
    "    print('='*35)\n",
    "    print('\\n')"
   ]
  },
  {
   "attachments": {},
   "cell_type": "markdown",
   "metadata": {},
   "source": [
    "#### 3.3 Results"
   ]
  },
  {
   "cell_type": "code",
   "execution_count": 71,
   "metadata": {},
   "outputs": [
    {
     "data": {
      "text/html": [
       "<div>\n",
       "<style scoped>\n",
       "    .dataframe tbody tr th:only-of-type {\n",
       "        vertical-align: middle;\n",
       "    }\n",
       "\n",
       "    .dataframe tbody tr th {\n",
       "        vertical-align: top;\n",
       "    }\n",
       "\n",
       "    .dataframe thead th {\n",
       "        text-align: right;\n",
       "    }\n",
       "</style>\n",
       "<table border=\"1\" class=\"dataframe\">\n",
       "  <thead>\n",
       "    <tr style=\"text-align: right;\">\n",
       "      <th></th>\n",
       "      <th>Model Name</th>\n",
       "      <th>R2_Score</th>\n",
       "    </tr>\n",
       "  </thead>\n",
       "  <tbody>\n",
       "    <tr>\n",
       "      <th>7</th>\n",
       "      <td>CatBoosting Regressor</td>\n",
       "      <td>0.999885</td>\n",
       "    </tr>\n",
       "    <tr>\n",
       "      <th>6</th>\n",
       "      <td>XGBRegressor</td>\n",
       "      <td>0.998868</td>\n",
       "    </tr>\n",
       "    <tr>\n",
       "      <th>5</th>\n",
       "      <td>Random Forest Regressor</td>\n",
       "      <td>0.998226</td>\n",
       "    </tr>\n",
       "    <tr>\n",
       "      <th>3</th>\n",
       "      <td>K-Neighbors Regressor</td>\n",
       "      <td>0.993518</td>\n",
       "    </tr>\n",
       "    <tr>\n",
       "      <th>4</th>\n",
       "      <td>Decision Tree</td>\n",
       "      <td>0.992899</td>\n",
       "    </tr>\n",
       "    <tr>\n",
       "      <th>0</th>\n",
       "      <td>Linear Regression</td>\n",
       "      <td>0.967294</td>\n",
       "    </tr>\n",
       "    <tr>\n",
       "      <th>2</th>\n",
       "      <td>Ridge</td>\n",
       "      <td>0.967292</td>\n",
       "    </tr>\n",
       "    <tr>\n",
       "      <th>8</th>\n",
       "      <td>AdaBoost Regressor</td>\n",
       "      <td>0.966096</td>\n",
       "    </tr>\n",
       "    <tr>\n",
       "      <th>1</th>\n",
       "      <td>Lasso</td>\n",
       "      <td>0.960899</td>\n",
       "    </tr>\n",
       "  </tbody>\n",
       "</table>\n",
       "</div>"
      ],
      "text/plain": [
       "                Model Name  R2_Score\n",
       "7    CatBoosting Regressor  0.999885\n",
       "6             XGBRegressor  0.998868\n",
       "5  Random Forest Regressor  0.998226\n",
       "3    K-Neighbors Regressor  0.993518\n",
       "4            Decision Tree  0.992899\n",
       "0        Linear Regression  0.967294\n",
       "2                    Ridge  0.967292\n",
       "8       AdaBoost Regressor  0.966096\n",
       "1                    Lasso  0.960899"
      ]
     },
     "execution_count": 71,
     "metadata": {},
     "output_type": "execute_result"
    }
   ],
   "source": [
    "df_results = pd.DataFrame(list(zip(model_list, r2_list)), columns=['Model Name', 'R2_Score']).sort_values(by=[\"R2_Score\"],ascending=False)\n",
    "df_results"
   ]
  },
  {
   "cell_type": "markdown",
   "metadata": {},
   "source": [
    "### 4.Predictive Modeling Using Multiple Linear Regression"
   ]
  },
  {
   "cell_type": "markdown",
   "metadata": {},
   "source": [
    "#### 4.1 Baseline Modeling"
   ]
  },
  {
   "cell_type": "code",
   "execution_count": 74,
   "metadata": {},
   "outputs": [
    {
     "name": "stdout",
     "output_type": "stream",
     "text": [
      "Intercept: 463.42924033852745\n",
      "Coefficients: [  6.64055773   1.98956165 -16.97965224   0.50514786   0.24322886\n",
      "  -0.15643565]\n",
      "R² Score: 0.96716459666956\n",
      "MSE: 128.07823514506518\n",
      "RMSE: 11.317165508424146\n"
     ]
    }
   ],
   "source": [
    "# Define independent variables (predictors) and dependent variable (target)\n",
    "X_mlr = df[['Duration', 'Heart_Rate', 'Body_Temp', 'Age', 'Weight', 'Height']]\n",
    "y_mlr = df['Calories']\n",
    "\n",
    "# Initialize and fit the model\n",
    "lr_model = LinearRegression()\n",
    "lr_model.fit(X_mlr, y_mlr)\n",
    "\n",
    "# Predictions\n",
    "y_mlr_pred = lr_model.predict(X_mlr)\n",
    "\n",
    "# Display results\n",
    "print(\"Intercept:\", lr_model.intercept_)\n",
    "print(\"Coefficients:\", lr_model.coef_)\n",
    "print(\"R² Score:\", r2_score(y_mlr, y_mlr_pred))\n",
    "print(\"MSE:\", mean_squared_error(y_mlr, y_mlr_pred))\n",
    "print(\"RMSE:\", np.sqrt(mean_squared_error(y_mlr, y_mlr_pred)))"
   ]
  },
  {
   "cell_type": "markdown",
   "metadata": {},
   "source": [
    "#### 4.2 Feature Engineering for Better Prediction"
   ]
  },
  {
   "cell_type": "code",
   "execution_count": 75,
   "metadata": {},
   "outputs": [
    {
     "name": "stdout",
     "output_type": "stream",
     "text": [
      "Intercept: 292.46112306512896\n",
      "Coefficients: [-7.28714494 -0.02986271  0.17334099 -0.37837965  1.52877761 -1.66466812\n",
      " -5.85051173  0.130594    0.01176053]\n",
      "R² Score: 0.9867618896394833\n",
      "MSE: 51.636759097116425\n",
      "RMSE: 7.1858721876412766\n"
     ]
    }
   ],
   "source": [
    "# Feature Engineering\n",
    "df[\"BMI\"] = df[\"Weight\"] / ((df[\"Height\"] / 100) ** 2)   # Body Mass Index (BMI)\n",
    "df[\"Duration_HeartRate\"] = df[\"Duration\"] * df[\"Heart_Rate\"]   # Interaction between duration and heart rate\n",
    "df[\"Weight_Age\"] = df[\"Weight\"] * df[\"Age\"]    # Interaction between weight and age\n",
    "\n",
    "# Define features and target\n",
    "X_mlr_new = df[['Duration', 'Heart_Rate', 'Body_Temp', 'Age', 'Weight', 'Height',\n",
    "            'BMI', 'Duration_HeartRate', 'Weight_Age']]\n",
    "y_mlr_new = df['Calories']\n",
    "\n",
    "# Fit the model\n",
    "lr_model_new = LinearRegression()\n",
    "lr_model_new.fit(X_mlr_new, y_mlr_new)\n",
    "\n",
    "# Predict\n",
    "y_mlr_pred_new = lr_model_new.predict(X_mlr_new)\n",
    "\n",
    "# Results\n",
    "print(\"Intercept:\", lr_model_new.intercept_)\n",
    "print(\"Coefficients:\", lr_model_new.coef_)\n",
    "print(\"R² Score:\", r2_score(y_mlr_new, y_mlr_pred_new))\n",
    "print(\"MSE:\", mean_squared_error(y_mlr_new, y_mlr_pred_new))\n",
    "print(\"RMSE:\", np.sqrt(mean_squared_error(y_mlr_new, y_mlr_pred_new)))"
   ]
  },
  {
   "cell_type": "markdown",
   "metadata": {},
   "source": [
    "By incorporating these new variables, I achieve:\n",
    "\n",
    "- R² = 0.987, an improvement from 0.967.\n",
    "- AIC/BIC values decrease, indicating a better model fit.\n",
    "- Duration × Heart Rate (β = 0.1306, p < 0.001) emerges as the most important feature. These results confirm that workout intensity (heart rate) combined with duration is the best predictor of calorie burn. Other variables, like BMI and Weight × Age, also contribute but to a lesser extent.\n",
    "\n",
    "#### R² has increased with the new features, but it is still less than the CatBoost model's performance. Therefore, the CatBoost model remains the preferred choice."
   ]
  },
  {
   "attachments": {},
   "cell_type": "markdown",
   "metadata": {},
   "source": [
    "### 5. Hyperparameter tuning"
   ]
  },
  {
   "attachments": {},
   "cell_type": "markdown",
   "metadata": {},
   "source": [
    "#### 5.1 Tuning Catboost"
   ]
  },
  {
   "cell_type": "code",
   "execution_count": 47,
   "metadata": {},
   "outputs": [
    {
     "name": "stdout",
     "output_type": "stream",
     "text": [
      "{'learning_rate': 0.04, 'iterations': 500, 'depth': 10}\n",
      "0.9995974911450922\n"
     ]
    }
   ],
   "source": [
    "# Initializing catboost\n",
    "cbr = CatBoostRegressor(verbose=False)\n",
    "\n",
    "# Creating the hyperparameter grid\n",
    "param_dist = {'depth'          : [4,5,6,7,8,9, 10],\n",
    "              'learning_rate' : [0.01,0.02,0.03,0.04],\n",
    "               'iterations'    : [300,400,500,600]}\n",
    "\n",
    "#Instantiate RandomSearchCV object\n",
    "rscv = RandomizedSearchCV(cbr , param_dist, scoring='r2', cv =5, n_jobs=-1)\n",
    "\n",
    "# Fit the model\n",
    "rscv.fit(xtrain, ytrain.values.flatten())\n",
    "\n",
    "# Print the tuned parameters and score\n",
    "print(rscv.best_params_)\n",
    "print(rscv.best_score_)"
   ]
  },
  {
   "attachments": {},
   "cell_type": "markdown",
   "metadata": {},
   "source": [
    "#### 5.1.1 Definition to print evaluated model results"
   ]
  },
  {
   "cell_type": "code",
   "execution_count": 48,
   "metadata": {},
   "outputs": [],
   "source": [
    "def print_evaluated_results(model,xtrain,ytrain,xtest,ytest):\n",
    "    ytrain_pred = model.predict(xtrain)\n",
    "    ytest_pred = model.predict(xtest)\n",
    "\n",
    "    # Evaluate Train and Test dataset\n",
    "    model_train_mae , model_train_rmse, model_train_r2 = evaluate_model(ytrain, ytrain_pred)\n",
    "    model_test_mae , model_test_rmse, model_test_r2 = evaluate_model(ytest, ytest_pred)\n",
    "\n",
    "    # Printing results\n",
    "    print('Model performance for Training set')\n",
    "    print(\"- Root Mean Squared Error: {:.4f}\".format(model_train_rmse))\n",
    "    print(\"- Mean Absolute Error: {:.4f}\".format(model_train_mae))\n",
    "    print(\"- R2 Score: {:.4f}\".format(model_train_r2))\n",
    "\n",
    "    print('----------------------------------')\n",
    "    \n",
    "    print('Model performance for Test set')\n",
    "    print(\"- Root Mean Squared Error: {:.4f}\".format(model_test_rmse))\n",
    "    print(\"- Mean Absolute Error: {:.4f}\".format(model_test_mae))\n",
    "    print(\"- R2 Score: {:.4f}\".format(model_test_r2))"
   ]
  },
  {
   "cell_type": "code",
   "execution_count": 49,
   "metadata": {},
   "outputs": [
    {
     "name": "stdout",
     "output_type": "stream",
     "text": [
      "Model performance for Training set\n",
      "- Root Mean Squared Error: 0.6822\n",
      "- Mean Absolute Error: 0.5205\n",
      "- R2 Score: 0.9999\n",
      "----------------------------------\n",
      "Model performance for Test set\n",
      "- Root Mean Squared Error: 1.0152\n",
      "- Mean Absolute Error: 0.6425\n",
      "- R2 Score: 0.9997\n"
     ]
    }
   ],
   "source": [
    "# Selecting best model\n",
    "best_cbr = rscv.best_estimator_\n",
    "\n",
    "# Evaluate Train and Test dataset\n",
    "print_evaluated_results(best_cbr,xtrain,ytrain,xtest,ytest)"
   ]
  },
  {
   "attachments": {},
   "cell_type": "markdown",
   "metadata": {},
   "source": [
    "#### 5.2 Tuning KNN"
   ]
  },
  {
   "cell_type": "code",
   "execution_count": 50,
   "metadata": {},
   "outputs": [
    {
     "name": "stdout",
     "output_type": "stream",
     "text": [
      "{'n_neighbors': 9}\n",
      "0.992798491669476\n"
     ]
    }
   ],
   "source": [
    "from sklearn.model_selection import GridSearchCV\n",
    "# Initialize knn\n",
    "knn = KNeighborsRegressor()\n",
    "\n",
    "# parameters\n",
    "k_range = list(range(2, 31))\n",
    "param_grid = dict(n_neighbors=k_range)\n",
    "\n",
    "# Fitting the cvmodel\n",
    "grid = GridSearchCV(knn, param_grid, cv=5, scoring='r2',n_jobs=-1)\n",
    "grid.fit(xtrain, ytrain)\n",
    "\n",
    "# Print the tuned parameters and score\n",
    "print(grid.best_params_)\n",
    "print(grid.best_score_)"
   ]
  },
  {
   "cell_type": "code",
   "execution_count": 51,
   "metadata": {},
   "outputs": [
    {
     "name": "stdout",
     "output_type": "stream",
     "text": [
      "Model performance for Training set\n",
      "- Root Mean Squared Error: 4.4717\n",
      "- Mean Absolute Error: 3.2330\n",
      "- R2 Score: 0.9948\n",
      "----------------------------------\n",
      "Model performance for Test set\n",
      "- Root Mean Squared Error: 4.8757\n",
      "- Mean Absolute Error: 3.5884\n",
      "- R2 Score: 0.9941\n"
     ]
    }
   ],
   "source": [
    "# Selecting best model\n",
    "best_knn = grid.best_estimator_\n",
    "\n",
    "# Evaluate Train and Test dataset\n",
    "print_evaluated_results(best_knn,xtrain,ytrain,xtest,ytest)"
   ]
  },
  {
   "attachments": {},
   "cell_type": "markdown",
   "metadata": {},
   "source": [
    "#### 5.3 Tuning XGBoost"
   ]
  },
  {
   "cell_type": "code",
   "execution_count": 52,
   "metadata": {},
   "outputs": [
    {
     "name": "stdout",
     "output_type": "stream",
     "text": [
      "{'n_estimators': 400, 'min_child_weight': 7, 'max_depth': 5, 'learning_rate': 0.15, 'gamma': 0.0, 'colsample_bytree': 0.7}\n",
      "0.9992609722208622\n"
     ]
    }
   ],
   "source": [
    "# Initializing xgboost\n",
    "xgb = XGBRegressor()\n",
    "\n",
    "# Parameters\n",
    "params = {\n",
    " 'learning_rate' : [0.01,0.05,0.10,0.15,0.20,0.25,0.30],\n",
    " 'max_depth' : [ 3, 4, 5, 6, 8, 10, 12, 15],\n",
    " 'min_child_weight' : [ 1, 3, 5, 7 ],\n",
    " 'gamma': [ 0.0, 0.1, 0.2 , 0.3, 0.4 ],\n",
    " 'colsample_bytree' : [ 0.3, 0.4, 0.5 , 0.7 ],\n",
    " 'n_estimators':[300,400,500,600]\n",
    "}\n",
    "\n",
    "rs_xgb=RandomizedSearchCV(xgb,param_distributions=params,scoring='r2',n_jobs=-1,cv=5)\n",
    "rs_xgb.fit(xtrain, ytrain.values.flatten())\n",
    "\n",
    "# Print the tuned parameters and score\n",
    "print(rs_xgb.best_params_)\n",
    "print(rs_xgb.best_score_)"
   ]
  },
  {
   "cell_type": "code",
   "execution_count": 53,
   "metadata": {},
   "outputs": [
    {
     "name": "stdout",
     "output_type": "stream",
     "text": [
      "Model performance for Training set\n",
      "- Root Mean Squared Error: 1.0298\n",
      "- Mean Absolute Error: 0.7592\n",
      "- R2 Score: 0.9997\n",
      "----------------------------------\n",
      "Model performance for Test set\n",
      "- Root Mean Squared Error: 1.5522\n",
      "- Mean Absolute Error: 1.1068\n",
      "- R2 Score: 0.9994\n"
     ]
    }
   ],
   "source": [
    "# Selecting best xgb model\n",
    "best_xgb = rs_xgb.best_estimator_\n",
    "\n",
    "# Evaluate Train and Test dataset\n",
    "print_evaluated_results(best_xgb,xtrain,ytrain,xtest,ytest)"
   ]
  },
  {
   "attachments": {},
   "cell_type": "markdown",
   "metadata": {},
   "source": [
    "### 6. Voting Regressor"
   ]
  },
  {
   "cell_type": "code",
   "execution_count": 54,
   "metadata": {},
   "outputs": [
    {
     "name": "stdout",
     "output_type": "stream",
     "text": [
      "Model performance for Training set\n",
      "- Root Mean Squared Error: 1.0063\n",
      "- Mean Absolute Error: 0.7587\n",
      "- R2 Score: 0.9997\n",
      "----------------------------------\n",
      "Model performance for Test set\n",
      "- Root Mean Squared Error: 1.3706\n",
      "- Mean Absolute Error: 0.9543\n",
      "- R2 Score: 0.9995\n"
     ]
    }
   ],
   "source": [
    "from sklearn.ensemble import VotingRegressor\n",
    "\n",
    "er = VotingRegressor([('cbr',best_cbr),('knn',best_knn),('xgb',XGBRegressor())], weights=[3,1,2])\n",
    "er.fit(xtrain, ytrain.values.flatten())\n",
    "\n",
    "print_evaluated_results(er,xtrain,ytrain,xtest,ytest)"
   ]
  },
  {
   "attachments": {},
   "cell_type": "markdown",
   "metadata": {},
   "source": [
    "#### R² has increased with the Hyperparameter tuning & Ensembled Technique, but it is still less than the CatBoost model's performance. Therefore, the CatBoost model remains the preferred choice."
   ]
  },
  {
   "attachments": {},
   "cell_type": "markdown",
   "metadata": {},
   "source": [
    "### 7. Catboost Model Analysis"
   ]
  },
  {
   "cell_type": "markdown",
   "metadata": {},
   "source": [
    "#### 7.1 Feature Analysis"
   ]
  },
  {
   "cell_type": "code",
   "execution_count": 55,
   "metadata": {},
   "outputs": [
    {
     "name": "stdout",
     "output_type": "stream",
     "text": [
      "num_pipeline__Duration      51.661519\n",
      "num_pipeline__Heart_Rate    21.845402\n",
      "num_pipeline__Age           13.418052\n",
      "num_pipeline__Body_Temp      6.723621\n",
      "cat_pipeline__Gender         4.576183\n",
      "num_pipeline__Weight         1.117946\n",
      "num_pipeline__Height         0.657277\n",
      "dtype: float64\n",
      "\n",
      "\n"
     ]
    },
    {
     "data": {
      "image/png": "[encoded data removed]",
      "text/plain": [
       "<Figure size 640x480 with 1 Axes>"
      ]
     },
     "metadata": {},
     "output_type": "display_data"
    }
   ],
   "source": [
    "feature_imp = best_cbr.feature_importances_\n",
    "feature_nm = best_cbr.feature_names_\n",
    "imp_series = pd.Series(feature_imp)\n",
    "imp_series.index = feature_nm\n",
    "print(imp_series.sort_values(ascending=False))\n",
    "print('\\n')\n",
    "imp_series.sort_values().plot(kind='barh',\n",
    "                              xlabel='feature importance',\n",
    "                              ylabel='feature name',\n",
    "                              title='Catboost Feature importances')\n",
    "plt.show()"
   ]
  },
  {
   "cell_type": "markdown",
   "metadata": {},
   "source": [
    "#### 7.2 Ploting Actual vs Predicted"
   ]
  },
  {
   "cell_type": "code",
   "execution_count": 56,
   "metadata": {},
   "outputs": [
    {
     "name": "stderr",
     "output_type": "stream",
     "text": [
      "C:\\Users\\Anmol jain\\AppData\\Local\\Temp\\ipykernel_19580\\1628312707.py:32: UserWarning: Glyph 128200 (\\N{CHART WITH UPWARDS TREND}) missing from font(s) Arial.\n",
      "  plt.tight_layout()\n",
      "C:\\Users\\Anmol jain\\AppData\\Roaming\\Python\\Python312\\site-packages\\IPython\\core\\pylabtools.py:170: UserWarning: Glyph 128200 (\\N{CHART WITH UPWARDS TREND}) missing from font(s) Arial.\n",
      "  fig.canvas.print_figure(bytes_io, **kw)\n"
     ]
    },
    {
     "data": {
      "image/png": "[encoded data removed]",
      "text/plain": [
       "<Figure size 1000x800 with 1 Axes>"
      ]
     },
     "metadata": {},
     "output_type": "display_data"
    }
   ],
   "source": [
    "# Predict\n",
    "y_pred = best_cbr.predict(xtest)\n",
    "r2 = r2_score(ytest, y_pred)\n",
    "\n",
    "# Set style\n",
    "sns.set(style=\"whitegrid\")\n",
    "\n",
    "# Create figure\n",
    "plt.figure(figsize=(10, 8))\n",
    "palette = sns.color_palette(\"coolwarm\", as_cmap=True)\n",
    "\n",
    "# Scatter plot with color gradient based on prediction value\n",
    "sns.scatterplot(x=ytest.values.flatten(), y=y_pred,\n",
    "                hue=y_pred, palette=palette, s=60, edgecolor='k', alpha=0.9, legend=False)\n",
    "\n",
    "# Perfect prediction line\n",
    "plt.plot([ytest.min(), ytest.max()], [ytest.min(), ytest.max()],\n",
    "         'r--', lw=2, label='Perfect Prediction')\n",
    "\n",
    "# Labels & Title\n",
    "plt.xlabel(\"Actual Values\", fontsize=13, weight='bold')\n",
    "plt.ylabel(\"Predicted Values\", fontsize=13, weight='bold')\n",
    "plt.title(\"📈 CatBoost Regressor: Actual vs Predicted\", fontsize=16, weight='bold')\n",
    "\n",
    "# Annotate R²\n",
    "plt.text(0.05, 0.95, f\"$R^2$ = {r2:.4f}\", transform=plt.gca().transAxes,\n",
    "         fontsize=13, bbox=dict(facecolor='white', edgecolor='black', boxstyle='round,pad=0.3'))\n",
    "\n",
    "# Grid and layout\n",
    "plt.legend()\n",
    "plt.grid(True, linestyle='--', alpha=0.6)\n",
    "plt.tight_layout()\n",
    "plt.show()\n"
   ]
  }
 ],
 "metadata": {
  "kernelspec": {
   "display_name": "Python 3",
   "language": "python",
   "name": "python3"
  },
  "language_info": {
   "codemirror_mode": {
    "name": "ipython",
    "version": 3
   },
   "file_extension": ".py",
   "mimetype": "text/x-python",
   "name": "python",
   "nbconvert_exporter": "python",
   "pygments_lexer": "ipython3",
   "version": "3.12.9"
  },
  "orig_nbformat": 4
 },
 "nbformat": 4,
 "nbformat_minor": 2
}
